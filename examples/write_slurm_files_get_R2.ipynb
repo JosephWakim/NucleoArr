{
 "cells": [
  {
   "cell_type": "markdown",
   "id": "10cb48c3",
   "metadata": {},
   "source": [
    "# Get Radii of Gyration for Outputs"
   ]
  },
  {
   "cell_type": "markdown",
   "id": "1f1d5591",
   "metadata": {},
   "source": [
    "#### USER INPUTS\n",
    "\n",
    "Specify the output directory for which radii of gyration are to be calculated."
   ]
  },
  {
   "cell_type": "code",
   "execution_count": 1,
   "id": "27ee82f4",
   "metadata": {},
   "outputs": [],
   "source": [
    "out_dir = \"/scratch/users/jwakim/sliding_nucleosome/output/final_sims\""
   ]
  },
  {
   "cell_type": "markdown",
   "id": "5da500bc",
   "metadata": {},
   "source": [
    "Specify the resources to request to each job."
   ]
  },
  {
   "cell_type": "code",
   "execution_count": 2,
   "id": "65f27788",
   "metadata": {},
   "outputs": [],
   "source": [
    "runtime = \"2:59:59\"\n",
    "num_tasks = \"1\"\n",
    "cpus_per_task = \"1\"\n",
    "mem_per_cpu = \"4G\""
   ]
  },
  {
   "cell_type": "markdown",
   "id": "75cb85b7",
   "metadata": {},
   "source": [
    "#### Import Modules"
   ]
  },
  {
   "cell_type": "code",
   "execution_count": 3,
   "id": "c97416ea",
   "metadata": {},
   "outputs": [],
   "source": [
    "import os\n",
    "import sys\n",
    "from datetime import datetime\n",
    "import numpy as np"
   ]
  },
  {
   "cell_type": "markdown",
   "id": "945d728a",
   "metadata": {},
   "source": [
    "#### List Simulations in the Output Directory"
   ]
  },
  {
   "cell_type": "code",
   "execution_count": 4,
   "id": "63429367",
   "metadata": {},
   "outputs": [],
   "source": [
    "# List the simulation directories\n",
    "sims = os.listdir(out_dir)\n",
    "sims = [sim for sim in sims if os.path.isdir(os.path.join(out_dir, sim)) and sim.startswith(\"sim_\")]\n",
    "\n",
    "# Sort the simulation directories by their indices\n",
    "sim_inds = [int(sim.split(\"_\")[-1]) for sim in sims]\n",
    "sims = [sim for _, sim in sorted(zip(sim_inds, sims))]\n",
    "sim_inds = np.sort(sim_inds)"
   ]
  },
  {
   "cell_type": "markdown",
   "id": "2617cfdf",
   "metadata": {},
   "source": [
    "#### Navigate to Root Directory"
   ]
  },
  {
   "cell_type": "code",
   "execution_count": 5,
   "id": "18ee630c",
   "metadata": {},
   "outputs": [],
   "source": [
    "# Get the absolute path of the notebook's directory\n",
    "notebook_directory = os.path.dirname(os.path.abspath('__file__'))\n",
    "\n",
    "# Navigate one level up to get the root directory path\n",
    "root_directory = os.path.abspath(os.path.join(notebook_directory, '..'))\n",
    "\n",
    "# Change the working directory to the root directory\n",
    "os.chdir(root_directory)\n",
    "\n",
    "# Append the root directory to sys.path\n",
    "sys.path.append(root_directory)"
   ]
  },
  {
   "cell_type": "markdown",
   "id": "5f19b2e2",
   "metadata": {},
   "source": [
    "#### Generate Directory for SBATCH files"
   ]
  },
  {
   "cell_type": "code",
   "execution_count": 6,
   "id": "600dead6",
   "metadata": {},
   "outputs": [],
   "source": [
    "# Generate a directory for ALL sets of sbatch files (if it does not exist)\n",
    "sbatch_dir = os.path.join(root_directory, \"sbatch_files\")\n",
    "if not os.path.exists(sbatch_dir):\n",
    "    os.makedirs(sbatch_dir)"
   ]
  },
  {
   "cell_type": "code",
   "execution_count": 7,
   "id": "64294c71",
   "metadata": {},
   "outputs": [],
   "source": [
    "# Generate a subdirectory for the CURRENT set of sbatch files\n",
    "now = datetime.now()\n",
    "subdirectory_name = now.strftime(\"find_Rg_%Y-%m-%d_%H-%M-%S\")\n",
    "slurm_dir = os.path.join(sbatch_dir, subdirectory_name)\n",
    "os.makedirs(slurm_dir)"
   ]
  },
  {
   "cell_type": "markdown",
   "id": "1f7a295e",
   "metadata": {},
   "source": [
    "#### Write the SBATCH files"
   ]
  },
  {
   "cell_type": "code",
   "execution_count": 8,
   "id": "df0088e1",
   "metadata": {},
   "outputs": [],
   "source": [
    "analysis_dir = f\"{root_directory}/examples\"\n",
    "analysis_file = \"get_Rg.py\"\n",
    "slurm_prefix = \"find_Rg\"\n",
    "run_file_prefix = \"run_jobs\"\n",
    "job_prefix = \"find_Rg\""
   ]
  },
  {
   "cell_type": "code",
   "execution_count": 9,
   "id": "3c759511",
   "metadata": {},
   "outputs": [],
   "source": [
    "job_count = 0\n",
    "batch_size = 900\n",
    "n_batches = int(np.ceil(len(sims) / batch_size))\n",
    "run_files = {i: [] for i in range(n_batches)}\n",
    "\n",
    "for i, sim in enumerate(sims):\n",
    "    batch_ind = int(job_count // batch_size)\n",
    "    sim_path = os.path.join(out_dir, sim)\n",
    "    slurm_file_name = f\"{slurm_prefix}_{job_count}.slurm\"\n",
    "    job_name = f\"{job_prefix}_{job_count}\"\n",
    "    run_files[batch_ind].append(slurm_file_name)\n",
    "    slurm_file_path = os.path.join(slurm_dir, slurm_file_name)\n",
    "\n",
    "    with open(slurm_file_path, 'w') as f:\n",
    "\n",
    "        f.write(\"#!/bin/bash\\n\\n\")\n",
    "\n",
    "        f.write(f\"#SBATCH --job-name={job_name}\\n\")\n",
    "        f.write(f\"#SBATCH --time={runtime}\\n\")\n",
    "        f.write(f\"#SBATCH --ntasks={num_tasks}\\n\")\n",
    "        f.write(f\"#SBATCH --cpus-per-task={cpus_per_task}\\n\")\n",
    "        f.write(f\"#SBATCH --mem-per-cpu={mem_per_cpu}\\n\\n\")\n",
    "\n",
    "        f.write(f\"source ~/.bashrc\\n\")\n",
    "        f.write(f\"conda activate slide\\n\")\n",
    "        f.write(f\"cd {analysis_dir}\\n\")\n",
    "        f.write(f\"python {analysis_file} {os.path.join(out_dir, sim)}\\n\")\n",
    "        f.write(f\"echo 'Job complete!'\\n\")\n",
    "\n",
    "    job_count += 1"
   ]
  },
  {
   "cell_type": "code",
   "execution_count": 10,
   "id": "340da43e",
   "metadata": {},
   "outputs": [],
   "source": [
    "for i in range(n_batches):\n",
    "    run_file_name = f\"{run_file_prefix}_{i}.sh\"\n",
    "    with open(os.path.join(slurm_dir, run_file_name), \"w\") as f:\n",
    "        for job_file in run_files[i]:\n",
    "            f.write(f\"sbatch {job_file}\\n\")"
   ]
  },
  {
   "cell_type": "code",
   "execution_count": null,
   "id": "bfccff9c",
   "metadata": {},
   "outputs": [],
   "source": []
  }
 ],
 "metadata": {
  "kernelspec": {
   "display_name": "slide",
   "language": "python",
   "name": "slide"
  },
  "language_info": {
   "codemirror_mode": {
    "name": "ipython",
    "version": 3
   },
   "file_extension": ".py",
   "mimetype": "text/x-python",
   "name": "python",
   "nbconvert_exporter": "python",
   "pygments_lexer": "ipython3",
   "version": "3.10.9"
  },
  "varInspector": {
   "cols": {
    "lenName": 16,
    "lenType": 16,
    "lenVar": 40
   },
   "kernels_config": {
    "python": {
     "delete_cmd_postfix": "",
     "delete_cmd_prefix": "del ",
     "library": "var_list.py",
     "varRefreshCmd": "print(var_dic_list())"
    },
    "r": {
     "delete_cmd_postfix": ") ",
     "delete_cmd_prefix": "rm(",
     "library": "var_list.r",
     "varRefreshCmd": "cat(var_dic_list()) "
    }
   },
   "types_to_exclude": [
    "module",
    "function",
    "builtin_function_or_method",
    "instance",
    "_Feature"
   ],
   "window_display": false
  }
 },
 "nbformat": 4,
 "nbformat_minor": 5
}
