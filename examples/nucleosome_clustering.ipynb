{
 "cells": [
  {
   "cell_type": "markdown",
   "id": "37d0a65f",
   "metadata": {},
   "source": [
    "# Demonstrate Nucleosome Clustering with the Sliding Nucleosome Model\n",
    "\n",
    "Simulation of the sliding nucleosome model with the following parameters:\n",
    "\n",
    "- Number of marks: 1\n",
    "- Maximum number of binders per mark:2"
   ]
  },
  {
   "cell_type": "markdown",
   "id": "0ee396ee",
   "metadata": {},
   "source": [
    "#### Specify Package Root Directory"
   ]
  },
  {
   "cell_type": "code",
   "execution_count": 1,
   "id": "cf50888d",
   "metadata": {},
   "outputs": [],
   "source": [
    "import os\n",
    "import sys\n",
    "\n",
    "# Get the absolute path of the notebook's directory\n",
    "notebook_directory = os.path.dirname(os.path.abspath('__file__'))\n",
    "\n",
    "# Navigate one level up to get the root directory path\n",
    "root_directory = os.path.abspath(os.path.join(notebook_directory, '..'))\n",
    "\n",
    "# Change the working directory to the root directory\n",
    "os.chdir(root_directory)\n",
    "\n",
    "# Append the root directory to sys.path\n",
    "sys.path.append(root_directory)"
   ]
  },
  {
   "cell_type": "markdown",
   "id": "18b3acd0",
   "metadata": {},
   "source": [
    "#### Import Modules"
   ]
  },
  {
   "cell_type": "code",
   "execution_count": 2,
   "id": "751c18e3",
   "metadata": {},
   "outputs": [],
   "source": [
    "import numpy as np\n",
    "import matplotlib.pyplot as plt\n",
    "import sliding_nucleosome.nucleo_arr as nuc\n",
    "from sliding_nucleosome import mc"
   ]
  },
  {
   "cell_type": "markdown",
   "id": "197518da",
   "metadata": {},
   "source": [
    "#### Initialize Physical Parameters"
   ]
  },
  {
   "cell_type": "code",
   "execution_count": 3,
   "id": "dc19775d",
   "metadata": {},
   "outputs": [],
   "source": [
    "# Specify physical parameters\n",
    "J = np.atleast_2d([-3.92])\n",
    "B = np.atleast_2d([-1.5])\n",
    "mu = np.array([9.5])\n",
    "\n",
    "# Generate a methylation sequence\n",
    "n_beads = 500\n",
    "frac_methyl = 0.1\n",
    "p_methyl_states = [\n",
    "    (1 - frac_methyl) ** 2,\n",
    "    2 * frac_methyl * (1 - frac_methyl),\n",
    "    frac_methyl ** 2\n",
    "]\n",
    "marks = np.random.choice([0, 1, 2], n_beads, p_methyl_states)\n",
    "marks = np.atleast_2d(marks).T\n",
    "\n",
    "# Specify the polymer\n",
    "gamma = np.ones(marks.shape[0])\n",
    "nbi = np.array([2])\n",
    "avg_linker = 45\n",
    "linker_lengths = np.ones(marks.shape[0])\n",
    "a = int(np.floor(15.1))\n",
    "lam = -np.log(1 - 1 / avg_linker)"
   ]
  },
  {
   "cell_type": "markdown",
   "id": "f7342786",
   "metadata": {
    "pycharm": {
     "name": "#%% md\n"
    }
   },
   "source": [
    "#### Initialize the Nucleosome Array"
   ]
  },
  {
   "cell_type": "code",
   "execution_count": 4,
   "id": "440ca794",
   "metadata": {
    "pycharm": {
     "name": "#%%\n"
    }
   },
   "outputs": [],
   "source": [
    "nuc_arr = nuc.NucleosomeArray(\n",
    "    J = J,\n",
    "    B = B,\n",
    "    mu = mu,\n",
    "    linker_lengths = linker_lengths,\n",
    "    a = a,\n",
    "    lam = lam,\n",
    "    marks = marks,\n",
    "    Nbi = nbi\n",
    ")"
   ]
  },
  {
   "cell_type": "markdown",
   "id": "fa49dda4",
   "metadata": {
    "pycharm": {
     "name": "#%% md\n"
    }
   },
   "source": [
    "#### Specify Simulation Parameters"
   ]
  },
  {
   "cell_type": "code",
   "execution_count": 5,
   "id": "efdc7e94",
   "metadata": {},
   "outputs": [],
   "source": [
    "out_dir = \"output\"\n",
    "n_steps = 1000\n",
    "n_save = 1"
   ]
  },
  {
   "cell_type": "markdown",
   "id": "a05157c5",
   "metadata": {
    "pycharm": {
     "name": "#%% md\n"
    }
   },
   "source": [
    "#### Run the Simulation"
   ]
  },
  {
   "cell_type": "code",
   "execution_count": 6,
   "id": "4c150759",
   "metadata": {
    "pycharm": {
     "is_executing": true,
     "name": "#%%\n"
    }
   },
   "outputs": [],
   "source": [
    "mc.mc_linkers(nuc_arr, n_save, n_steps, out_dir)"
   ]
  },
  {
   "cell_type": "markdown",
   "id": "c2e397da",
   "metadata": {},
   "source": [
    "#### Inspect Configuration"
   ]
  },
  {
   "cell_type": "code",
   "execution_count": 7,
   "id": "f3be253c",
   "metadata": {},
   "outputs": [
    {
     "name": "stdout",
     "output_type": "stream",
     "text": [
      "Linker Lengths:\n",
      "[5. 5. 4. 5. 3. 2. 5. 5. 5. 5. 1. 4. 4. 1. 3. 1. 5. 2. 1. 2. 3. 5. 1. 1.\n",
      " 5. 4. 1. 2. 1. 4. 5. 1. 3. 2. 4. 4. 5. 5. 2. 2. 4. 3. 1. 5. 4. 4. 3. 4.\n",
      " 5. 1. 2. 2. 1. 2. 2. 2. 1. 5. 2. 5. 3. 3. 2. 2. 4. 5. 1. 1. 3. 3. 4. 4.\n",
      " 5. 3. 2. 1. 2. 3. 5. 4. 2. 1. 2. 5. 1. 2. 2. 2. 1. 2. 3. 2. 4. 1. 4. 4.\n",
      " 4. 3. 1. 5. 4. 3. 3. 5. 3. 4. 3. 4. 1. 1. 1. 1. 5. 4. 3. 1. 2. 5. 4. 1.\n",
      " 5. 3. 1. 3. 4. 3. 1. 3. 4. 4. 5. 3. 3. 4. 4. 1. 4. 4. 2. 3. 5. 2. 5. 1.\n",
      " 4. 2. 1. 3. 3. 4.]\n"
     ]
    }
   ],
   "source": [
    "# Extract the linker length distribution\n",
    "linker_lengths = nuc_arr.linker_lengths\n",
    "\n",
    "# Print the linker lengths\n",
    "print(\"Linker Lengths:\")\n",
    "print(linker_lengths)"
   ]
  },
  {
   "cell_type": "code",
   "execution_count": null,
   "id": "7168cfc3",
   "metadata": {},
   "outputs": [],
   "source": []
  }
 ],
 "metadata": {
  "kernelspec": {
   "display_name": "slide",
   "language": "python",
   "name": "slide"
  },
  "language_info": {
   "codemirror_mode": {
    "name": "ipython",
    "version": 3
   },
   "file_extension": ".py",
   "mimetype": "text/x-python",
   "name": "python",
   "nbconvert_exporter": "python",
   "pygments_lexer": "ipython3",
   "version": "3.10.9"
  },
  "varInspector": {
   "cols": {
    "lenName": 16,
    "lenType": 16,
    "lenVar": 40
   },
   "kernels_config": {
    "python": {
     "delete_cmd_postfix": "",
     "delete_cmd_prefix": "del ",
     "library": "var_list.py",
     "varRefreshCmd": "print(var_dic_list())"
    },
    "r": {
     "delete_cmd_postfix": ") ",
     "delete_cmd_prefix": "rm(",
     "library": "var_list.r",
     "varRefreshCmd": "cat(var_dic_list()) "
    }
   },
   "types_to_exclude": [
    "module",
    "function",
    "builtin_function_or_method",
    "instance",
    "_Feature"
   ],
   "window_display": false
  }
 },
 "nbformat": 4,
 "nbformat_minor": 5
}
