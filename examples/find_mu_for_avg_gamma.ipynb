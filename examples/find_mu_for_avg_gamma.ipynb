{
 "cells": [
  {
   "cell_type": "markdown",
   "id": "7ae524b0",
   "metadata": {},
   "source": [
    "# Find Chemical Potential that Produces Some Average Gamma\n",
    "\n",
    "The linker length distribution is highly dependent on the binding state of the system. The binding state of the system is highly dependent on the chemical potential. Search for a chemical potential that produces a linker length distribution with a desired average gamma value."
   ]
  },
  {
   "cell_type": "markdown",
   "id": "d294cbc4",
   "metadata": {},
   "source": [
    "#### Specify Package Root Directory"
   ]
  },
  {
   "cell_type": "code",
   "execution_count": 1,
   "id": "ef96e98b",
   "metadata": {},
   "outputs": [],
   "source": [
    "import os\n",
    "import sys\n",
    "\n",
    "# Get the absolute path of the notebook's directory\n",
    "notebook_directory = os.path.dirname(os.path.abspath('__file__'))\n",
    "\n",
    "# Navigate one level up to get the root directory path\n",
    "root_directory = os.path.abspath(os.path.join(notebook_directory, '..'))\n",
    "\n",
    "# Change the working directory to the root directory\n",
    "os.chdir(root_directory)\n",
    "\n",
    "# Append the root directory to sys.path\n",
    "sys.path.append(root_directory)"
   ]
  },
  {
   "cell_type": "markdown",
   "id": "84b93e6a",
   "metadata": {},
   "source": [
    "#### Import Modules"
   ]
  },
  {
   "cell_type": "code",
   "execution_count": 2,
   "id": "ef74e7c5",
   "metadata": {},
   "outputs": [],
   "source": [
    "import numpy as np\n",
    "import matplotlib.pyplot as plt\n",
    "import sliding_nucleosome.nucleo_arr as nuc\n",
    "from sliding_nucleosome import mc"
   ]
  },
  {
   "cell_type": "markdown",
   "id": "ddb9d6ff",
   "metadata": {},
   "source": [
    "#### Initialize Physical Parameters"
   ]
  },
  {
   "cell_type": "code",
   "execution_count": 3,
   "id": "74e789a8",
   "metadata": {},
   "outputs": [],
   "source": [
    "# Specify physical parameters\n",
    "J = np.atleast_2d([-3.92])\n",
    "B = np.atleast_2d([-1.5])\n",
    "mu = np.array([-9.7])"
   ]
  },
  {
   "cell_type": "code",
   "execution_count": 4,
   "id": "8a1fd3a7",
   "metadata": {},
   "outputs": [],
   "source": [
    "# Generate a methylation sequence\n",
    "n_beads = 500\n",
    "frac_methyl = 0.1\n",
    "methyl_corr_length = 18.4\n",
    "marks = nuc.gen_meth(n_beads, frac_methyl, methyl_corr_length)\n",
    "marks = np.atleast_2d(marks).T"
   ]
  },
  {
   "cell_type": "code",
   "execution_count": 5,
   "id": "3fc9ffa0",
   "metadata": {},
   "outputs": [],
   "source": [
    "# Let's force the mark profile to match the one that should produce phase separation\n",
    "marks = np.array(\n",
    "    [1., 1., 1., 1., 1., 1., 1., 1., 1., 1., 0., 0., 0., 0., 0., 0., 0.,\n",
    "   0., 0., 0., 0., 0., 0., 0., 0., 0., 0., 0., 0., 0., 0., 0., 0., 0.,\n",
    "   0., 0., 0., 0., 0., 0., 0., 0., 0., 0., 0., 0., 0., 0., 0., 0., 0.,\n",
    "   0., 0., 0., 0., 0., 0., 0., 0., 0., 0., 0., 0., 0., 0., 0., 0., 0.,\n",
    "   0., 0., 0., 0., 0., 0., 0., 0., 0., 0., 0., 0., 0., 0., 0., 0., 0.,\n",
    "   0., 0., 0., 0., 0., 0., 0., 0., 0., 0., 0., 0., 0., 0., 0., 0., 0.,\n",
    "   0., 0., 0., 0., 0., 0., 0., 0., 0., 0., 0., 0., 0., 0., 0., 0., 0.,\n",
    "   0., 0., 0., 0., 0., 0., 0., 0., 0., 0., 0., 0., 0., 0., 0., 0., 0.,\n",
    "   0., 0., 0., 0., 0., 0., 0., 0., 0., 0., 0., 0., 0., 0., 0., 0., 0.,\n",
    "   0., 0., 0., 0., 0., 0., 0., 0., 0., 0., 0., 0., 0., 0., 0., 0., 0.,\n",
    "   0., 0., 0., 0., 0., 1., 1., 1., 1., 0., 0., 0., 0., 0., 0., 0., 0.,\n",
    "   0., 2., 1., 1., 1., 1., 1., 2., 0., 0., 0., 0., 0., 0., 0., 0., 0.,\n",
    "   0., 0., 0., 0., 0., 0., 1., 1., 1., 1., 2., 1., 1., 1., 0., 0., 0.,\n",
    "   0., 0., 0., 0., 0., 0., 0., 0., 0., 0., 0., 0., 0., 0., 0., 0., 0.,\n",
    "   0., 0., 0., 0., 0., 0., 0., 0., 0., 0., 0., 0., 0., 0., 0., 0., 0.,\n",
    "   0., 0., 0., 0., 0., 0., 0., 0., 0., 0., 0., 0., 0., 0., 0., 0., 0.,\n",
    "   0., 0., 0., 0., 0., 0., 0., 0., 0., 0., 0., 0., 0., 0., 0., 0., 0.,\n",
    "   0., 0., 0., 0., 0., 1., 1., 1., 1., 1., 1., 1., 1., 1., 1., 1., 1.,\n",
    "   1., 1., 1., 1., 1., 1., 1., 1., 1., 1., 1., 1., 2., 2., 0., 0., 0.,\n",
    "   0., 0., 0., 0., 0., 0., 0., 0., 0., 0., 0., 0., 0., 0., 0., 0., 0.,\n",
    "   0., 0., 0., 0., 0., 0., 0., 0., 0., 0., 0., 0., 0., 0., 0., 0., 0.,\n",
    "   0., 0., 0., 0., 0., 0., 0., 0., 0., 0., 0., 0., 0., 0., 0., 0., 0.,\n",
    "   0., 0., 0., 0., 0., 0., 0., 0., 0., 0., 0., 0., 0., 0., 0., 0., 0.,\n",
    "   0., 0., 0., 0., 0., 0., 0., 0., 0., 0., 0., 0., 0., 0., 0., 0., 0.,\n",
    "   0., 0., 0., 0., 0., 0., 0., 0., 0., 0., 0., 0., 0., 0., 0., 0., 0.,\n",
    "   0., 0., 0., 0., 0., 0., 0., 0., 0., 0., 0., 0., 0., 0., 0., 0., 0.,\n",
    "   0., 0., 0., 0., 0., 0., 0., 0., 0., 0., 0., 0., 0., 0., 0., 0., 0.,\n",
    "   0., 0., 0., 0., 0., 0., 2., 1., 1., 1., 1., 1., 0., 0., 0., 0., 0.,\n",
    "   0., 0., 0., 0., 0., 0., 0., 0., 0., 0., 0., 0., 0., 0., 0., 0., 0.,\n",
    "   0., 0., 0., 0., 0., 0., 0.]\n",
    ")\n",
    "marks = np.atleast_2d(marks).T"
   ]
  },
  {
   "cell_type": "code",
   "execution_count": 6,
   "id": "581677bb",
   "metadata": {},
   "outputs": [],
   "source": [
    "# Specify the polymer\n",
    "gamma = np.ones(marks.shape[0])\n",
    "nbi = np.array([2])\n",
    "linker_corr_length = 45\n",
    "linker_lengths = np.random.exponential(linker_corr_length, size=marks.shape[0])\n",
    "linker_lengths = np.maximum(linker_lengths, 1.0)\n",
    "linker_lengths = linker_lengths.astype(int)\n",
    "a = int(np.floor(15.1))\n",
    "lam = -np.log(1 - 1 / linker_corr_length)"
   ]
  },
  {
   "cell_type": "code",
   "execution_count": 7,
   "id": "f0e8bdc9",
   "metadata": {
    "scrolled": false
   },
   "outputs": [
    {
     "name": "stdout",
     "output_type": "stream",
     "text": [
      "Linker Lengths: \n",
      "\n",
      "[  2  26   1  12  27  12  24  87 121  22  17  21 118  20  32  14  32  88\n",
      "   1  29  25  13  16  12  80  45 170   1  15  80   6  25  51  34  71  48\n",
      "  14  73   4  65  35  71  19  16  13   2 110  81   2  30   1   6  10  54\n",
      "  82  42  66   2   2  15  28  33  32 139  47  66 116  13  97  16  70  13\n",
      " 399 155  12 152  10  15  24  32  26  10  37  31  10   3   8   6   7  63\n",
      "   8  12  17  13  13  43 162  28  19 307  43  12  90  59  24   8  65  13\n",
      "  20  80   4  13  37  18 210   3  20  44   7  58  25   8  97  71   2  59\n",
      "   4  27   3 174  14  56  67  19 153 103 117  68  33  38   1 110  63   7\n",
      " 135  31  20  28  15  74  40   3   9  29  21   5  53  55  22  47   6  15\n",
      "  16  23 108  65   3   5   6  22  22  12  19   6   9  96  62  23  16   8\n",
      "   7  23 152  38   9   8  62 121 130  26  39   6  57  44  36  21  69   8\n",
      "  29  81   1 149  27  56 140  12   6  51  90   9  60  23  37  24   4  59\n",
      "  18  12  15  30  31  14  72  14  34  34  47  14   3  60   4  50  76  70\n",
      "  34   8  56   1 102 173 112  27  30   9  19  73 154  79   3  61   1  42\n",
      "   1   1 111  84  16  34  23   5  52  19  56  18  16  11  92  35  19  53\n",
      "  10  24   5   1  12  60  49  22  55  19  53  19  43   1  77 237  24  31\n",
      "   2   3   7  62   3 182  23  95 115   7 144 124   2  72  29   3  51  43\n",
      " 177  91  45  43  61  40  45  40   7  71  10  56   3  13  43   1  81  54\n",
      "  19  99 111  32  34  36  36  51  20  12   7  39  16  48  26  13  21 137\n",
      "  15   2  69  10  55  53  49  43  15  27   1  86  69  53   5  95 123  17\n",
      "  13  36  10   2   5   1  71  54  59  27  17   6  38  30  62  66  35  50\n",
      "   2  56  55   5  18  73  17  96  52   1  63  33 177   8  44  13   5  82\n",
      "  35  28   6 104  40  60  11 146  33   2  10  51  44  17  61   1  14  32\n",
      "  30   9  72  65  41   5 173  26  42  60   6  20  13   9  33 181 153  31\n",
      " 175  93  12  30  19  44  12  26  94  15  12   9  34  77  15  57   5 101\n",
      " 181  35  30 105  88   5 135  54  43   6  17  19  14  13  23  20  78  14\n",
      "  89   8  48   7  26  15  19   9   4  39  22  25   1   1  65   3  36   4\n",
      "  26   4   8  59  11   1   3  60  73  15  42  54  17  22]\n"
     ]
    }
   ],
   "source": [
    "print(f\"Linker Lengths: \\n\\n{linker_lengths}\")"
   ]
  },
  {
   "cell_type": "markdown",
   "id": "c2d47ae6",
   "metadata": {},
   "source": [
    "#### Initialize the Nucleosome Array"
   ]
  },
  {
   "cell_type": "code",
   "execution_count": 8,
   "id": "9f98087a",
   "metadata": {},
   "outputs": [],
   "source": [
    "nuc_arr = nuc.NucleosomeArray(\n",
    "    J = J,\n",
    "    B = B,\n",
    "    mu = mu,\n",
    "    linker_lengths = linker_lengths,\n",
    "    a = a,\n",
    "    lam = lam,\n",
    "    marks = marks,\n",
    "    Nbi = nbi\n",
    ")"
   ]
  },
  {
   "cell_type": "code",
   "execution_count": 9,
   "id": "42a92c76",
   "metadata": {},
   "outputs": [
    {
     "name": "stdout",
     "output_type": "stream",
     "text": [
      "Average Gamma: 0.332\n"
     ]
    }
   ],
   "source": [
    "print(f\"Average Gamma: {np.average(nuc_arr.gamma)}\")"
   ]
  },
  {
   "cell_type": "markdown",
   "id": "e349eed8",
   "metadata": {},
   "source": [
    "#### Specify Parameters for Linker Simulation"
   ]
  },
  {
   "cell_type": "code",
   "execution_count": 10,
   "id": "be6ed73b",
   "metadata": {},
   "outputs": [],
   "source": [
    "n_snap = 1\n",
    "n_steps_per_snap = 1000"
   ]
  },
  {
   "cell_type": "markdown",
   "id": "2c5a9740",
   "metadata": {},
   "source": [
    "#### Iterate Between Binding and Linker Simulations\n",
    "\n",
    "Iterate in the following manner:\n",
    "\n",
    "1. Run the binding model to select the chemical potential that produces the desired binding fraction for a fixed linker length distribution.\n",
    "\n",
    "2. Using the chemical potential selected in step 1, update the linker length distribution using the linker model.\n",
    "\n",
    "3. Iterate between steps 1 and 2 until the chemical potential and average `gamma` parameter converge."
   ]
  },
  {
   "cell_type": "code",
   "execution_count": 11,
   "id": "fdcca9f5",
   "metadata": {
    "scrolled": false
   },
   "outputs": [
    {
     "name": "stdout",
     "output_type": "stream",
     "text": [
      "Starting iteration 2 of 10...\n",
      "Starting iteration 4 of 10...\n",
      "Starting iteration 6 of 10...\n",
      "Starting iteration 8 of 10...\n",
      "Starting iteration 10 of 10...\n",
      "Maximum number of iterations have been met.\n"
     ]
    }
   ],
   "source": [
    "target_avg_gamma = 0.5\n",
    "mu_lower = -10.\n",
    "mu_upper = -9.\n",
    "\n",
    "mu = mc.find_mu_for_avg_gamma(\n",
    "    nuc_arr,\n",
    "    mu_lower,\n",
    "    mu_upper,\n",
    "    target_avg_gamma,\n",
    "    n_snap,\n",
    "    n_steps_per_snap\n",
    ")"
   ]
  },
  {
   "cell_type": "code",
   "execution_count": null,
   "id": "c21a5c2a",
   "metadata": {},
   "outputs": [],
   "source": []
  }
 ],
 "metadata": {
  "kernelspec": {
   "display_name": "slide",
   "language": "python",
   "name": "slide"
  },
  "language_info": {
   "codemirror_mode": {
    "name": "ipython",
    "version": 3
   },
   "file_extension": ".py",
   "mimetype": "text/x-python",
   "name": "python",
   "nbconvert_exporter": "python",
   "pygments_lexer": "ipython3",
   "version": "3.10.9"
  },
  "varInspector": {
   "cols": {
    "lenName": 16,
    "lenType": 16,
    "lenVar": 40
   },
   "kernels_config": {
    "python": {
     "delete_cmd_postfix": "",
     "delete_cmd_prefix": "del ",
     "library": "var_list.py",
     "varRefreshCmd": "print(var_dic_list())"
    },
    "r": {
     "delete_cmd_postfix": ") ",
     "delete_cmd_prefix": "rm(",
     "library": "var_list.r",
     "varRefreshCmd": "cat(var_dic_list()) "
    }
   },
   "types_to_exclude": [
    "module",
    "function",
    "builtin_function_or_method",
    "instance",
    "_Feature"
   ],
   "window_display": false
  }
 },
 "nbformat": 4,
 "nbformat_minor": 5
}
