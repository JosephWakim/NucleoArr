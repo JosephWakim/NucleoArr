{
 "cells": [
  {
   "cell_type": "markdown",
   "id": "a0fb954e",
   "metadata": {},
   "source": [
    "# Find Conditions for Average Binding Fraction\n",
    "\n",
    "The linker length distribution is highly dependent on the binding state of the system. Meanwhile, the binding state of the system depends on the linker length distribution. To control the binding fraction while simulating linker lengths, we will iterate between sliding and binding simulations.\n",
    "\n",
    "#### Approach\n",
    "\n",
    "First, we will assume that all pairs of adjacent nucleosomes are within the interaction radius, meaning the value of gamma is `1` for all nucleosomes. We will generate a theoretical isotherm for this system, and we will identify the chemical potential that produces approximately 50% (or some other setpoint) of sites bound by our reader. We will then simulate nucleosome sliding to generate a linker length distribution for this chemical potential. We will update the values of gamma based on the sliding simulation and we will reiterate. We will repeat the iteration process until the chemical potential at 50% binding and the associated linker length distribution converge."
   ]
  },
  {
   "cell_type": "markdown",
   "id": "9a767bd0",
   "metadata": {},
   "source": [
    "#### Specify Package Root Directory"
   ]
  },
  {
   "cell_type": "code",
   "execution_count": 1,
   "id": "65ac23d5",
   "metadata": {},
   "outputs": [],
   "source": [
    "import os\n",
    "import sys\n",
    "\n",
    "# Get the absolute path of the notebook's directory\n",
    "notebook_directory = os.path.dirname(os.path.abspath('__file__'))\n",
    "\n",
    "# Navigate one level up to get the root directory path\n",
    "root_directory = os.path.abspath(os.path.join(notebook_directory, '..'))\n",
    "\n",
    "# Change the working directory to the root directory\n",
    "os.chdir(root_directory)\n",
    "\n",
    "# Append the root directory to sys.path\n",
    "sys.path.append(root_directory)"
   ]
  },
  {
   "cell_type": "markdown",
   "id": "6a3ddc64",
   "metadata": {},
   "source": [
    "#### Import Modules"
   ]
  },
  {
   "cell_type": "code",
   "execution_count": 2,
   "id": "7794278e",
   "metadata": {},
   "outputs": [],
   "source": [
    "import numpy as np\n",
    "import matplotlib.pyplot as plt\n",
    "import sliding_nucleosome.nucleo_arr as nuc\n",
    "from sliding_nucleosome import mc\n",
    "from binding_model.theory_bind import find_mu_for_binding_frac"
   ]
  },
  {
   "cell_type": "markdown",
   "id": "3ab71f92",
   "metadata": {},
   "source": [
    "#### Initialize Physical Parameters"
   ]
  },
  {
   "cell_type": "code",
   "execution_count": 3,
   "id": "6ea49543",
   "metadata": {},
   "outputs": [],
   "source": [
    "# Specify physical parameters\n",
    "J = np.atleast_2d([-3.92])\n",
    "B = np.atleast_2d([-1.5])\n",
    "mu = np.array([-9.7])"
   ]
  },
  {
   "cell_type": "code",
   "execution_count": 4,
   "id": "03fda15f",
   "metadata": {},
   "outputs": [],
   "source": [
    "# Generate a methylation sequence\n",
    "n_beads = 500\n",
    "frac_methyl = 0.1\n",
    "methyl_corr_length = 18.4\n",
    "marks = nuc.gen_meth(n_beads, frac_methyl, methyl_corr_length)\n",
    "marks = np.atleast_2d(marks).T"
   ]
  },
  {
   "cell_type": "code",
   "execution_count": 5,
   "id": "a1d7a9ed",
   "metadata": {},
   "outputs": [],
   "source": [
    "# Let's force the mark profile to match the one that should produce phase separation\n",
    "marks = np.array(\n",
    "    [1., 1., 1., 1., 1., 1., 1., 1., 1., 1., 0., 0., 0., 0., 0., 0., 0.,\n",
    "   0., 0., 0., 0., 0., 0., 0., 0., 0., 0., 0., 0., 0., 0., 0., 0., 0.,\n",
    "   0., 0., 0., 0., 0., 0., 0., 0., 0., 0., 0., 0., 0., 0., 0., 0., 0.,\n",
    "   0., 0., 0., 0., 0., 0., 0., 0., 0., 0., 0., 0., 0., 0., 0., 0., 0.,\n",
    "   0., 0., 0., 0., 0., 0., 0., 0., 0., 0., 0., 0., 0., 0., 0., 0., 0.,\n",
    "   0., 0., 0., 0., 0., 0., 0., 0., 0., 0., 0., 0., 0., 0., 0., 0., 0.,\n",
    "   0., 0., 0., 0., 0., 0., 0., 0., 0., 0., 0., 0., 0., 0., 0., 0., 0.,\n",
    "   0., 0., 0., 0., 0., 0., 0., 0., 0., 0., 0., 0., 0., 0., 0., 0., 0.,\n",
    "   0., 0., 0., 0., 0., 0., 0., 0., 0., 0., 0., 0., 0., 0., 0., 0., 0.,\n",
    "   0., 0., 0., 0., 0., 0., 0., 0., 0., 0., 0., 0., 0., 0., 0., 0., 0.,\n",
    "   0., 0., 0., 0., 0., 1., 1., 1., 1., 0., 0., 0., 0., 0., 0., 0., 0.,\n",
    "   0., 2., 1., 1., 1., 1., 1., 2., 0., 0., 0., 0., 0., 0., 0., 0., 0.,\n",
    "   0., 0., 0., 0., 0., 0., 1., 1., 1., 1., 2., 1., 1., 1., 0., 0., 0.,\n",
    "   0., 0., 0., 0., 0., 0., 0., 0., 0., 0., 0., 0., 0., 0., 0., 0., 0.,\n",
    "   0., 0., 0., 0., 0., 0., 0., 0., 0., 0., 0., 0., 0., 0., 0., 0., 0.,\n",
    "   0., 0., 0., 0., 0., 0., 0., 0., 0., 0., 0., 0., 0., 0., 0., 0., 0.,\n",
    "   0., 0., 0., 0., 0., 0., 0., 0., 0., 0., 0., 0., 0., 0., 0., 0., 0.,\n",
    "   0., 0., 0., 0., 0., 1., 1., 1., 1., 1., 1., 1., 1., 1., 1., 1., 1.,\n",
    "   1., 1., 1., 1., 1., 1., 1., 1., 1., 1., 1., 1., 2., 2., 0., 0., 0.,\n",
    "   0., 0., 0., 0., 0., 0., 0., 0., 0., 0., 0., 0., 0., 0., 0., 0., 0.,\n",
    "   0., 0., 0., 0., 0., 0., 0., 0., 0., 0., 0., 0., 0., 0., 0., 0., 0.,\n",
    "   0., 0., 0., 0., 0., 0., 0., 0., 0., 0., 0., 0., 0., 0., 0., 0., 0.,\n",
    "   0., 0., 0., 0., 0., 0., 0., 0., 0., 0., 0., 0., 0., 0., 0., 0., 0.,\n",
    "   0., 0., 0., 0., 0., 0., 0., 0., 0., 0., 0., 0., 0., 0., 0., 0., 0.,\n",
    "   0., 0., 0., 0., 0., 0., 0., 0., 0., 0., 0., 0., 0., 0., 0., 0., 0.,\n",
    "   0., 0., 0., 0., 0., 0., 0., 0., 0., 0., 0., 0., 0., 0., 0., 0., 0.,\n",
    "   0., 0., 0., 0., 0., 0., 0., 0., 0., 0., 0., 0., 0., 0., 0., 0., 0.,\n",
    "   0., 0., 0., 0., 0., 0., 2., 1., 1., 1., 1., 1., 0., 0., 0., 0., 0.,\n",
    "   0., 0., 0., 0., 0., 0., 0., 0., 0., 0., 0., 0., 0., 0., 0., 0., 0.,\n",
    "   0., 0., 0., 0., 0., 0., 0.]\n",
    ")\n",
    "marks = np.atleast_2d(marks).T"
   ]
  },
  {
   "cell_type": "code",
   "execution_count": 6,
   "id": "3a23d202",
   "metadata": {},
   "outputs": [],
   "source": [
    "# Specify the polymer\n",
    "gamma = np.ones(marks.shape[0])\n",
    "nbi = np.array([2])\n",
    "linker_corr_length = 45\n",
    "linker_lengths = np.random.exponential(linker_corr_length, size=marks.shape[0])\n",
    "linker_lengths = np.maximum(linker_lengths, 1.0)\n",
    "linker_lengths = linker_lengths.astype(int)\n",
    "a = int(np.floor(15.1))\n",
    "lam = -np.log(1 - 1 / linker_corr_length)"
   ]
  },
  {
   "cell_type": "code",
   "execution_count": 7,
   "id": "d33489e6",
   "metadata": {
    "scrolled": false
   },
   "outputs": [
    {
     "name": "stdout",
     "output_type": "stream",
     "text": [
      "Linker Lengths: \n",
      "\n",
      "[ 28   1  32  10  41   3  66 130  21  21  27  24 131  96  39  49   1  55\n",
      "  76 102  91 139  35  85  15   1  15  38   6 159  11 168  20   5  94  26\n",
      " 202  14 125  54  44  59 104  26   5  25  18   6  47 109  45   1 103 161\n",
      " 113  62  85  60 104  47  96  55  34   9 138  59  10  60  10 164  94  37\n",
      "  95 104  26   7  74   2  16  45  10  36 121 132  49  12  45  83 121  32\n",
      "  76   8  84  79  20  25  10  27  23  31   1   3   6 136   8  20  22   5\n",
      "  14  18  34  81  38  82  26   8  15  26  50  49  57  17   3   9  35  40\n",
      "  35   1  14  15   4   3  46  42  22 135  24   8   9 148 175   1 107  62\n",
      "  16 171  18  48  46  16  24  53  46  46   5  22  44  18  66  59  41  59\n",
      "  25 105  51  21   3   8  11  31  21  32 181 154  52  13  62  74 122  54\n",
      "   6  27  73  11  10  27  66  34  65 165   7  30  49 153  27  91  47 227\n",
      "  56 198  23   2   9  19   9  29  43  19   4  29  78  28   4  25   5  10\n",
      " 110  46  26  41  18  13  17  43 110  98  37  53  44 162  59   3  50  35\n",
      " 104  37   1  21   6  12  41   1  70 103  15  11  57 139  19   4  75  35\n",
      "  46  28   1  26 134  45   8 169   9 134  28   5   4  96  12  20  26  19\n",
      "  34  54  28  36  22  18   7  44  28  22  40  42  41  37   9 116  47  37\n",
      "  14  10  73   5   3   2  69   1   3   4  72  43   1  22   6  19 124  49\n",
      " 117   3 102  26  13  70  36  83 262  62  76  36  71  35  47   2  86 104\n",
      "   8  40 101  12   1   3  26   6 129  35  74  32   6  46  96 118  29 188\n",
      "  58  19  12  68  25 145  13   6  22  16  29  49   9  12  88  16  95   7\n",
      "  72  77 140  10 119   8  21 124  36  66   1  43  84   1  62  97  14  26\n",
      " 200  23  55  16  75   4  48  29  70  10   5  54  13   6   1  87  75 147\n",
      "  68   8   2   6  12  51  24  38  23  60  85  51   4  17  56  32 211 179\n",
      "  63  44  36  27 124   1   4 116  10  44  20  32 162  41  44  47 127  46\n",
      "  21  25  99  23   7  39  28  42  25  10  26  24  47 102  59  12  50  25\n",
      "  30 164   1   5  55  75   4  30  47  49   7  52  10  21   1   5 223  19\n",
      "  40  47 162  17  90  42  18  17 127  23  38  20  94  48  61  55 124  17\n",
      "  15   1  25  37  37  14  12   8  10  90  38  99  24   8]\n"
     ]
    }
   ],
   "source": [
    "print(f\"Linker Lengths: \\n\\n{linker_lengths}\")"
   ]
  },
  {
   "cell_type": "markdown",
   "id": "d3e79486",
   "metadata": {},
   "source": [
    "#### Initialize the Nucleosome Array"
   ]
  },
  {
   "cell_type": "code",
   "execution_count": 8,
   "id": "bebfa1d2",
   "metadata": {},
   "outputs": [],
   "source": [
    "nuc_arr = nuc.NucleosomeArray(\n",
    "    J = J,\n",
    "    B = B,\n",
    "    mu = mu,\n",
    "    linker_lengths = linker_lengths,\n",
    "    a = a,\n",
    "    lam = lam,\n",
    "    marks = marks,\n",
    "    Nbi = nbi\n",
    ")"
   ]
  },
  {
   "cell_type": "code",
   "execution_count": 9,
   "id": "c5fd7ef6",
   "metadata": {},
   "outputs": [
    {
     "name": "stdout",
     "output_type": "stream",
     "text": [
      "Average Gamma: 0.27\n"
     ]
    }
   ],
   "source": [
    "print(f\"Average Gamma: {np.average(nuc_arr.gamma)}\")"
   ]
  },
  {
   "cell_type": "markdown",
   "id": "75d0df5d",
   "metadata": {},
   "source": [
    "#### Specify Parameters for Linker Simulation"
   ]
  },
  {
   "cell_type": "code",
   "execution_count": 10,
   "id": "9c180d5b",
   "metadata": {},
   "outputs": [],
   "source": [
    "n_snap = 1\n",
    "n_steps_per_snap = 1000"
   ]
  },
  {
   "cell_type": "markdown",
   "id": "b5ebfac2",
   "metadata": {},
   "source": [
    "#### Iterate Between Binding and Linker Simulations\n",
    "\n",
    "Iterate in the following manner:\n",
    "\n",
    "1. Run the binding model to select the chemical potential that produces the desired binding fraction for a fixed linker length distribution.\n",
    "\n",
    "2. Using the chemical potential selected in step 1, update the linker length distribution using the linker model.\n",
    "\n",
    "3. Iterate between steps 1 and 2 until the chemical potential and average `gamma` parameter converge."
   ]
  },
  {
   "cell_type": "code",
   "execution_count": 11,
   "id": "da2815d4",
   "metadata": {
    "scrolled": false
   },
   "outputs": [
    {
     "name": "stdout",
     "output_type": "stream",
     "text": [
      "Starting bind/slide iteration 1 of 10...\n",
      "Binding Converged!\n",
      "Running linker simulation...\n",
      "Mu: -3.59375, Avg. Gamma: 1.0\n",
      "Reiterating...\n",
      "\n",
      "Starting bind/slide iteration 2 of 10...\n",
      "Binding Converged!\n",
      "Running linker simulation...\n",
      "Mu: -9.453125, Avg. Gamma: 1.0\n",
      "Reiterating...\n",
      "\n",
      "Starting bind/slide iteration 3 of 10...\n",
      "Binding Converged!\n",
      "Running linker simulation...\n",
      "Mu: -8.28125, Avg. Gamma: 1.0\n",
      "Reiterating...\n",
      "\n",
      "Starting bind/slide iteration 4 of 10...\n",
      "Binding Converged!\n",
      "Running linker simulation...\n",
      "Mu: -9.609375, Avg. Gamma: 1.0\n",
      "Reiterating...\n",
      "\n",
      "Starting bind/slide iteration 5 of 10...\n",
      "Binding Converged!\n",
      "Running linker simulation...\n",
      "Mu: -6.5625, Avg. Gamma: 1.0\n",
      "Reiterating...\n",
      "\n",
      "Starting bind/slide iteration 6 of 10...\n",
      "Binding model iteration: 10\n",
      "Binding Converged!\n",
      "Running linker simulation...\n",
      "Mu: -9.365234375, Avg. Gamma: 1.0\n",
      "Reiterating...\n",
      "\n",
      "Starting bind/slide iteration 7 of 10...\n",
      "Binding Converged!\n",
      "Running linker simulation...\n",
      "Mu: -8.59375, Avg. Gamma: 1.0\n",
      "Reiterating...\n",
      "\n",
      "Starting bind/slide iteration 8 of 10...\n",
      "Binding Converged!\n",
      "Running linker simulation...\n",
      "Mu: -9.609375, Avg. Gamma: 1.0\n",
      "Reiterating...\n",
      "\n",
      "Starting bind/slide iteration 9 of 10...\n",
      "Binding Converged!\n",
      "Running linker simulation...\n",
      "Mu: -7.96875, Avg. Gamma: 1.0\n",
      "Reiterating...\n",
      "\n",
      "Starting bind/slide iteration 10 of 10...\n",
      "Binding Converged!\n",
      "Running linker simulation...\n",
      "Mu: -9.375, Avg. Gamma: 1.0\n",
      "Maximum number of iterations reached.\n"
     ]
    }
   ],
   "source": [
    "target_binding_fraction = 0.5\n",
    "mu_lower = -20\n",
    "mu_upper = 0\n",
    "\n",
    "nuc_arr = mc.find_nuc_arr_for_avg_binding(\n",
    "    nuc_arr,\n",
    "    mu_lower,\n",
    "    mu_upper,\n",
    "    target_binding_fraction,\n",
    "    n_snap,\n",
    "    n_steps_per_snap\n",
    ")"
   ]
  },
  {
   "cell_type": "code",
   "execution_count": null,
   "id": "58157434",
   "metadata": {},
   "outputs": [],
   "source": []
  }
 ],
 "metadata": {
  "kernelspec": {
   "display_name": "slide",
   "language": "python",
   "name": "slide"
  },
  "language_info": {
   "codemirror_mode": {
    "name": "ipython",
    "version": 3
   },
   "file_extension": ".py",
   "mimetype": "text/x-python",
   "name": "python",
   "nbconvert_exporter": "python",
   "pygments_lexer": "ipython3",
   "version": "3.10.9"
  },
  "varInspector": {
   "cols": {
    "lenName": 16,
    "lenType": 16,
    "lenVar": 40
   },
   "kernels_config": {
    "python": {
     "delete_cmd_postfix": "",
     "delete_cmd_prefix": "del ",
     "library": "var_list.py",
     "varRefreshCmd": "print(var_dic_list())"
    },
    "r": {
     "delete_cmd_postfix": ") ",
     "delete_cmd_prefix": "rm(",
     "library": "var_list.r",
     "varRefreshCmd": "cat(var_dic_list()) "
    }
   },
   "types_to_exclude": [
    "module",
    "function",
    "builtin_function_or_method",
    "instance",
    "_Feature"
   ],
   "window_display": false
  }
 },
 "nbformat": 4,
 "nbformat_minor": 5
}
