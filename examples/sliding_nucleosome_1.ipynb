{
 "cells": [
  {
   "cell_type": "markdown",
   "id": "a4276586",
   "metadata": {},
   "source": [
    "# Sliding Nucleosome Model\n",
    "\n",
    "Simulation of the sliding nucleosome model with the following parameters:\n",
    "\n",
    "- Number of marks: 1\n",
    "- Maximum number of binders per mark: 2"
   ]
  },
  {
   "cell_type": "markdown",
   "id": "841bc35c",
   "metadata": {},
   "source": [
    "#### Specify Package Root Directory"
   ]
  },
  {
   "cell_type": "code",
   "execution_count": 1,
   "id": "830ef118",
   "metadata": {},
   "outputs": [],
   "source": [
    "import os\n",
    "import sys\n",
    "\n",
    "# Get the absolute path of the notebook's directory\n",
    "notebook_directory = os.path.dirname(os.path.abspath('__file__'))\n",
    "\n",
    "# Navigate one level up to get the root directory path\n",
    "root_directory = os.path.abspath(os.path.join(notebook_directory, '..'))\n",
    "\n",
    "# Append the root directory to sys.path\n",
    "sys.path.append(root_directory)"
   ]
  },
  {
   "cell_type": "markdown",
   "id": "346ccd93",
   "metadata": {},
   "source": [
    "#### Import Modules"
   ]
  },
  {
   "cell_type": "code",
   "execution_count": 2,
   "id": "56fc5438",
   "metadata": {},
   "outputs": [],
   "source": [
    "import numpy as np\n",
    "import pandas as pd\n",
    "\n",
    "from sliding_nucleosome import binding, mc"
   ]
  },
  {
   "cell_type": "markdown",
   "id": "544d8daa",
   "metadata": {},
   "source": [
    "#### Initialize Model"
   ]
  },
  {
   "cell_type": "code",
   "execution_count": 3,
   "id": "2349b5a0",
   "metadata": {},
   "outputs": [
    {
     "name": "stdout",
     "output_type": "stream",
     "text": [
      "[[0 1]\n",
      " [1 1]\n",
      " [0 1]\n",
      " [0 1]]\n"
     ]
    }
   ],
   "source": [
    "J = np.array([[-1, 0], [0, -1]])\n",
    "B = np.array([[-1, 0], [0, -1]])\n",
    "mu = [-0.5, -0.5]\n",
    "marks = np.array([[0, 1], [1, 1], [0, 1], [0, 1]])\n",
    "print(marks)\n",
    "gamma = np.ones(marks.shape[0])\n",
    "nbi = np.array([2, 2])"
   ]
  },
  {
   "cell_type": "code",
   "execution_count": 4,
   "id": "e42af44b",
   "metadata": {},
   "outputs": [],
   "source": [
    "for i in range(len(marks)):\n",
    "    T = binding.get_transfer_matrix(J, B, mu, gamma[i], marks[i], nbi)"
   ]
  },
  {
   "cell_type": "code",
   "execution_count": 5,
   "id": "c3aceefa",
   "metadata": {},
   "outputs": [],
   "source": [
    "T_all =  binding.get_all_transfer_matrices(J, B, mu, gamma, marks, nbi)"
   ]
  }
 ],
 "metadata": {
  "kernelspec": {
   "display_name": "slide",
   "language": "python",
   "name": "slide"
  },
  "language_info": {
   "codemirror_mode": {
    "name": "ipython",
    "version": 3
   },
   "file_extension": ".py",
   "mimetype": "text/x-python",
   "name": "python",
   "nbconvert_exporter": "python",
   "pygments_lexer": "ipython3",
   "version": "3.10.9"
  },
  "varInspector": {
   "cols": {
    "lenName": 16,
    "lenType": 16,
    "lenVar": 40
   },
   "kernels_config": {
    "python": {
     "delete_cmd_postfix": "",
     "delete_cmd_prefix": "del ",
     "library": "var_list.py",
     "varRefreshCmd": "print(var_dic_list())"
    },
    "r": {
     "delete_cmd_postfix": ") ",
     "delete_cmd_prefix": "rm(",
     "library": "var_list.r",
     "varRefreshCmd": "cat(var_dic_list()) "
    }
   },
   "types_to_exclude": [
    "module",
    "function",
    "builtin_function_or_method",
    "instance",
    "_Feature"
   ],
   "window_display": false
  }
 },
 "nbformat": 4,
 "nbformat_minor": 5
}
