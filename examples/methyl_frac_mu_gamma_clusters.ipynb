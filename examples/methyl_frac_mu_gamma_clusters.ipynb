{
 "cells": [
  {
   "cell_type": "markdown",
   "id": "399b980b",
   "metadata": {},
   "source": [
    "# How do Methylation Fraction and Chemical Potential Affect Cluster Size?"
   ]
  },
  {
   "cell_type": "markdown",
   "id": "fbc8785b",
   "metadata": {},
   "source": [
    "#### Specify Package Root Directory"
   ]
  },
  {
   "cell_type": "code",
   "execution_count": null,
   "id": "57600ccd",
   "metadata": {},
   "outputs": [],
   "source": [
    "import os\n",
    "import sys\n",
    "\n",
    "# Get the absolute path of the notebook's directory\n",
    "notebook_directory = os.path.dirname(os.path.abspath('__file__'))\n",
    "\n",
    "# Navigate one level up to get the root directory path\n",
    "root_directory = os.path.abspath(os.path.join(notebook_directory, '..'))\n",
    "\n",
    "# Change the working directory to the root directory\n",
    "os.chdir(root_directory)\n",
    "\n",
    "# Append the root directory to sys.path\n",
    "sys.path.append(root_directory)"
   ]
  },
  {
   "cell_type": "markdown",
   "id": "73f560f8",
   "metadata": {},
   "source": [
    "#### Import Modules"
   ]
  },
  {
   "cell_type": "code",
   "execution_count": null,
   "id": "6263c256",
   "metadata": {},
   "outputs": [],
   "source": [
    "import numpy as np\n",
    "import pandas as pd\n",
    "import matplotlib.pyplot as plt\n",
    "import sliding_nucleosome.nucleo_arr as nuc"
   ]
  },
  {
   "cell_type": "markdown",
   "id": "c4d7068b",
   "metadata": {},
   "source": [
    "#### Characterize Simulations"
   ]
  },
  {
   "cell_type": "code",
   "execution_count": null,
   "id": "614af4ec",
   "metadata": {},
   "outputs": [],
   "source": [
    "# Specify the directory containing all simulations\n",
    "out_dir = \"/scratch/users/jwakim/sliding_nucleosome/output_var_methyl_frac\"\n",
    "\n",
    "# List simulations\n",
    "sims = os.listdir(out_dir)\n",
    "sims = [sim for sim in sims if sim.startswith(\"sim_\") and os.path.isdir(os.path.join(out_dir, sim))]\n",
    "sim_inds = [int(sim.split(\"_\")[1]) for sim in sims]\n",
    "sims = [sim for _, sim in sorted(zip(sim_inds, sims))]\n",
    "sim_inds = np.sort(sim_inds)\n",
    "\n",
    "# Simulations vary in methylation fraction and chemical potential\n",
    "sim_paths = {}\n",
    "latest_snap_paths = {}\n",
    "sim_to_methyl_frac_mu = {}\n",
    "methyl_frac_mu_to_sim = {}\n",
    "all_methyl_frac_mu = set()\n",
    "\n",
    "for i, sim in enumerate(sims):\n",
    "    \n",
    "    if (i+1) % 50 == 0:\n",
    "        print(f\"Sim {i+1} of {len(sims)}\")\n",
    "\n",
    "    # Identify the latest snapshot\n",
    "    sim_path = os.path.join(out_dir, sim)\n",
    "    sim_paths[sim] = sim_path\n",
    "    snaps = os.listdir(sim_path)\n",
    "    snaps = [snap for snap in snaps if snap.startswith(\"snap_\") and snap.endswith(\".json\")]\n",
    "    snaps = [snap for snap in snaps if snap != \"snap_init.json\"]\n",
    "    snap_inds = [int(snap.split(\"_\")[-1].split(\".\")[0]) for snap in snaps]\n",
    "    last_snap = snaps[np.argmax(snap_inds)]\n",
    "    snap_path = os.path.join(sim_path, last_snap)\n",
    "    latest_snap_paths[sim] = snap_path\n",
    "    \n",
    "    # Load configuration\n",
    "    nuc_arr = nuc.NucleosomeArray.load(snap_path)\n",
    "    \n",
    "    # Identify the chemical potential\n",
    "    methyl_frac = np.average(nuc_arr.marks[:, 0])\n",
    "    mu = nuc_arr.mu[0]\n",
    "    \n",
    "    # Generate a string representation of the methylation fraction and chemical potential\n",
    "    methyl_frac_mu = f\"{methyl_frac}_{mu}\"\n",
    "    sim_to_methyl_frac_mu[sim] = methyl_frac_mu\n",
    "    \n",
    "    # Store the chain length\n",
    "    if methyl_frac_mu not in all_methyl_frac_mu:\n",
    "        methyl_frac_mu_to_sim[methyl_frac_mu] = [sim]\n",
    "        all_methyl_frac_mu.add(methyl_frac_mu)\n",
    "    else:\n",
    "        methyl_frac_mu_to_sim[methyl_frac_mu].append(sim)"
   ]
  },
  {
   "cell_type": "markdown",
   "id": "7d76b172",
   "metadata": {},
   "source": [
    "#### Compute Average In-Range Parameter (Gamma)"
   ]
  },
  {
   "cell_type": "code",
   "execution_count": null,
   "id": "52167c6d",
   "metadata": {},
   "outputs": [],
   "source": [
    "all_methyl_frac_mu_lst = list(methyl_frac_mu_to_sim.keys())"
   ]
  },
  {
   "cell_type": "code",
   "execution_count": null,
   "id": "a6408589",
   "metadata": {},
   "outputs": [],
   "source": [
    "all_avg_gamma = {}\n",
    "\n",
    "for methyl_frac_mu in all_methyl_frac_mu_lst:\n",
    "    \n",
    "    methyl_frac = float(methyl_frac_mu.split(\"_\")[0])\n",
    "    all_avg_gamma[methyl_frac] = {}\n",
    "    \n",
    "    mu = float(methyl_frac_mu.split(\"_\")[1])\n",
    "    all_avg_gamma[methyl_frac][mu] = {}\n",
    "    \n",
    "    sims = methyl_frac_mu_to_sim[methyl_frac_mu]\n",
    "\n",
    "    for sim in sims: \n",
    "\n",
    "        # Identify latest snapshot\n",
    "        sim_path = sim_paths[sim]\n",
    "        snap_path = latest_snap_paths[sim]\n",
    "\n",
    "        # Load configuration\n",
    "        nuc_arr = nuc.NucleosomeArray.load(snap_path)\n",
    "\n",
    "        # Compute average gamma parameter\n",
    "        all_avg_gamma[methyl_frac][mu][sim] = np.average(nuc_arr.gamma)"
   ]
  },
  {
   "cell_type": "markdown",
   "id": "1f328094",
   "metadata": {},
   "source": [
    "#### Plot Gamma vs. Chemical Potential for Fixed Chain Length"
   ]
  },
  {
   "cell_type": "code",
   "execution_count": null,
   "id": "d7aade6d",
   "metadata": {},
   "outputs": [],
   "source": [
    "# Prepare data for plotting\n",
    "methyl_frac_plot = []\n",
    "mu_plot = []\n",
    "avg_gamma_plot = []\n",
    "for methyl_frac in all_avg_gamma.keys():\n",
    "    for mu in all_avg_gamma[methyl_frac].keys():\n",
    "        for sim in all_avg_gamma[methyl_frac][mu]:\n",
    "            methyl_frac_plot.append(methyl_frac)\n",
    "            mu_plot.append(mu)\n",
    "            avg_gamma_plot.append(all_avg_gamma[methyl_frac][mu][sim])\n",
    "\n",
    "# Covert to numpy arrays (for easier indexing)\n",
    "methyl_frac_plot = np.array(methyl_frac_plot)\n",
    "mu_plot = np.array(mu_plot)\n",
    "avg_gamma_plot = np.array(avg_gamma_plot)\n",
    "unique_mu = np.unique(mu_plot)\n",
    "\n",
    "# For each chemical potential, plot average gamma vs methylation fraction\n",
    "for mu in unique_mu:\n",
    "    inds = (mu_plot == mu)\n",
    "    plt.figure(figsize=(4, 3), dpi=300)\n",
    "    plt.scatter(methyl_frac_plot[inds], avg_gamma_plot[inds])\n",
    "    plt.xlabel(r\"Methyl. Frac.\")\n",
    "    plt.ylabel(r\"$\\langle\\gamma\\rangle$\")\n",
    "    plt.ylim((0, 1))\n",
    "    plt.title(fr\"$\\langle\\gamma\\rangle$ vs. Methyl. Frac. (at $\\mu$ = {mu} kT)\")\n",
    "    plt.show()"
   ]
  },
  {
   "cell_type": "markdown",
   "id": "8853ed9b",
   "metadata": {},
   "source": [
    "#### Load Cluster Size Distributions"
   ]
  },
  {
   "cell_type": "markdown",
   "id": "9bbe19a0",
   "metadata": {},
   "source": [
    "#### Plot Cluster Size Distribution for a Single Chemical Potential and Methylation Fraction"
   ]
  },
  {
   "cell_type": "markdown",
   "id": "7b7f0012",
   "metadata": {},
   "source": [
    "#### Plot Cluster Size Distribution for Variable Chemical Potentials and Methylation Fractions"
   ]
  },
  {
   "cell_type": "markdown",
   "id": "beac722e",
   "metadata": {},
   "source": [
    "#### Use the Same Bin Edges as [ChromEMT](https://www.science.org/doi/10.1126/science.aag0025#supplementary-materials)"
   ]
  },
  {
   "cell_type": "code",
   "execution_count": null,
   "id": "00d2adc2",
   "metadata": {},
   "outputs": [],
   "source": []
  }
 ],
 "metadata": {
  "kernelspec": {
   "display_name": "slide",
   "language": "python",
   "name": "slide"
  },
  "language_info": {
   "codemirror_mode": {
    "name": "ipython",
    "version": 3
   },
   "file_extension": ".py",
   "mimetype": "text/x-python",
   "name": "python",
   "nbconvert_exporter": "python",
   "pygments_lexer": "ipython3",
   "version": "3.9.12"
  },
  "varInspector": {
   "cols": {
    "lenName": 16,
    "lenType": 16,
    "lenVar": 40
   },
   "kernels_config": {
    "python": {
     "delete_cmd_postfix": "",
     "delete_cmd_prefix": "del ",
     "library": "var_list.py",
     "varRefreshCmd": "print(var_dic_list())"
    },
    "r": {
     "delete_cmd_postfix": ") ",
     "delete_cmd_prefix": "rm(",
     "library": "var_list.r",
     "varRefreshCmd": "cat(var_dic_list()) "
    }
   },
   "types_to_exclude": [
    "module",
    "function",
    "builtin_function_or_method",
    "instance",
    "_Feature"
   ],
   "window_display": false
  }
 },
 "nbformat": 4,
 "nbformat_minor": 5
}
