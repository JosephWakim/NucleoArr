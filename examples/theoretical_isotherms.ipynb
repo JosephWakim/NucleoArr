{
 "cells": [
  {
   "cell_type": "markdown",
   "id": "c70ca43e",
   "metadata": {},
   "source": [
    "# Generate Theoretical Isotherms\n",
    "\n",
    "Given a set of physical parameters and a pattern of epigenetic marks, generate a theoretical isotherm. Note that the theoretical isotherm assumes that all nucleosomes are separated by some distance such that binders on adjacent nucleosomes can interact."
   ]
  },
  {
   "cell_type": "markdown",
   "id": "58a4b64d",
   "metadata": {},
   "source": [
    "#### Specify Package Root Directory"
   ]
  },
  {
   "cell_type": "code",
   "execution_count": 1,
   "id": "8aa78694",
   "metadata": {},
   "outputs": [],
   "source": [
    "import os\n",
    "import sys\n",
    "\n",
    "# Get the absolute path of the notebook's directory\n",
    "notebook_directory = os.path.dirname(os.path.abspath('__file__'))\n",
    "\n",
    "# Navigate one level up to get the root directory path\n",
    "root_directory = os.path.abspath(os.path.join(notebook_directory, '..'))\n",
    "\n",
    "# Change the working directory to the root directory\n",
    "os.chdir(root_directory)\n",
    "\n",
    "# Append the root directory to sys.path\n",
    "sys.path.append(root_directory)"
   ]
  },
  {
   "cell_type": "markdown",
   "id": "c516b045",
   "metadata": {},
   "source": [
    "#### Import Modules"
   ]
  },
  {
   "cell_type": "code",
   "execution_count": 2,
   "id": "ed207781",
   "metadata": {},
   "outputs": [],
   "source": [
    "import numpy as np\n",
    "import matplotlib.pyplot as plt\n",
    "import sliding_nucleosome.nucleo_arr as nuc\n",
    "import sliding_nucleosome.linkers as link\n",
    "from sliding_nucleosome import mc"
   ]
  },
  {
   "cell_type": "markdown",
   "id": "80a04ac6",
   "metadata": {},
   "source": [
    "#### Initialize Physical Parameters"
   ]
  },
  {
   "cell_type": "code",
   "execution_count": 3,
   "id": "0d60bf66",
   "metadata": {},
   "outputs": [],
   "source": [
    "# Specify physical parameters\n",
    "J = np.atleast_2d([-3.92])\n",
    "B = np.atleast_2d([-1.5])\n",
    "mu = np.array([-9.5])\n",
    "\n",
    "# Generate a methylation sequence\n",
    "n_beads = 500\n",
    "frac_methyl = 0.1\n",
    "methyl_corr_length = 18.4\n",
    "# marks = nuc.gen_meth(n_beads, frac_methyl, methyl_corr_length)\n",
    "marks = np.zeros(n_beads, dtype=int)\n",
    "marks[100:225] = 2\n",
    "marks[275:400] = 2\n",
    "marks = np.atleast_2d(marks).T\n",
    "\n",
    "# Specify the polymer\n",
    "gamma = np.ones(marks.shape[0])\n",
    "nbi = np.array([2])\n",
    "linker_corr_length = 45\n",
    "linker_lengths = np.ones(marks.shape[0])\n",
    "a = int(np.floor(15.1))\n",
    "lam = -np.log(1 - 1 / linker_corr_length)"
   ]
  },
  {
   "cell_type": "code",
   "execution_count": 4,
   "id": "5e82e406",
   "metadata": {},
   "outputs": [
    {
     "name": "stdout",
     "output_type": "stream",
     "text": [
      "Methylation Pattern (flattened, single mark):\n",
      "\n",
      "[0 0 0 0 0 0 0 0 0 0 0 0 0 0 0 0 0 0 0 0 0 0 0 0 0 0 0 0 0 0 0 0 0 0 0 0 0\n",
      " 0 0 0 0 0 0 0 0 0 0 0 0 0 0 0 0 0 0 0 0 0 0 0 0 0 0 0 0 0 0 0 0 0 0 0 0 0\n",
      " 0 0 0 0 0 0 0 0 0 0 0 0 0 0 0 0 0 0 0 0 0 0 0 0 0 0 2 2 2 2 2 2 2 2 2 2 2\n",
      " 2 2 2 2 2 2 2 2 2 2 2 2 2 2 2 2 2 2 2 2 2 2 2 2 2 2 2 2 2 2 2 2 2 2 2 2 2\n",
      " 2 2 2 2 2 2 2 2 2 2 2 2 2 2 2 2 2 2 2 2 2 2 2 2 2 2 2 2 2 2 2 2 2 2 2 2 2\n",
      " 2 2 2 2 2 2 2 2 2 2 2 2 2 2 2 2 2 2 2 2 2 2 2 2 2 2 2 2 2 2 2 2 2 2 2 2 2\n",
      " 2 2 2 0 0 0 0 0 0 0 0 0 0 0 0 0 0 0 0 0 0 0 0 0 0 0 0 0 0 0 0 0 0 0 0 0 0\n",
      " 0 0 0 0 0 0 0 0 0 0 0 0 0 0 0 0 2 2 2 2 2 2 2 2 2 2 2 2 2 2 2 2 2 2 2 2 2\n",
      " 2 2 2 2 2 2 2 2 2 2 2 2 2 2 2 2 2 2 2 2 2 2 2 2 2 2 2 2 2 2 2 2 2 2 2 2 2\n",
      " 2 2 2 2 2 2 2 2 2 2 2 2 2 2 2 2 2 2 2 2 2 2 2 2 2 2 2 2 2 2 2 2 2 2 2 2 2\n",
      " 2 2 2 2 2 2 2 2 2 2 2 2 2 2 2 2 2 2 2 2 2 2 2 2 2 2 2 2 2 2 0 0 0 0 0 0 0\n",
      " 0 0 0 0 0 0 0 0 0 0 0 0 0 0 0 0 0 0 0 0 0 0 0 0 0 0 0 0 0 0 0 0 0 0 0 0 0\n",
      " 0 0 0 0 0 0 0 0 0 0 0 0 0 0 0 0 0 0 0 0 0 0 0 0 0 0 0 0 0 0 0 0 0 0 0 0 0\n",
      " 0 0 0 0 0 0 0 0 0 0 0 0 0 0 0 0 0 0 0]\n"
     ]
    }
   ],
   "source": [
    "# Print the methylation pattern\n",
    "print(\"Methylation Pattern (flattened, single mark):\\n\")\n",
    "print(marks.flatten())"
   ]
  },
  {
   "cell_type": "markdown",
   "id": "8e97dffb",
   "metadata": {},
   "source": [
    "#### Generate Theoretical Isotherms\n",
    "\n",
    "We calculate theoretical average binding fractions for various chemical potentials, then we plot the average binding fractions against the chemical potentials to generate a theoretical isotherm."
   ]
  },
  {
   "cell_type": "code",
   "execution_count": 5,
   "id": "ac8a5cc5",
   "metadata": {},
   "outputs": [],
   "source": [
    "def differentiate_transfer_matrix(T):\n",
    "    \"\"\"Differentiate a transfer matrix with respect to mu_t.\n",
    "    \"\"\"\n",
    "    dT = T.copy()\n",
    "    dT[0, 0] = 0\n",
    "    dT[0, 1] *= 0.5\n",
    "    dT[1, 0] *= 0.5\n",
    "    dT[1, 2] *= 1.5\n",
    "    dT[2, 1] *= 1.5\n",
    "    dT[2, 2] *= 2\n",
    "    return dT\n",
    "\n",
    "\n",
    "def compute_theoretical_binding_fraction(nuc_arr):\n",
    "    \n",
    "    # How many binder states exist?\n",
    "    Nr = nuc_arr.Nbi[0] + 1\n",
    "    \n",
    "    # Compute derivatives\n",
    "    dT_all = [\n",
    "        differentiate_transfer_matrix(nuc_arr.T_all[:, :, i])\n",
    "        for i in range(nuc_arr.n_beads)\n",
    "    ]\n",
    "    \n",
    "    # Compute partition function and normalization factors\n",
    "    Z, alphas = link.compute_partition_function(nuc_arr.T_all)\n",
    "    \n",
    "    # Pre-compute left and right partial matrix product\n",
    "    N = nuc_arr.n_beads\n",
    "    T_left = {}\n",
    "    T_right = {}\n",
    "    for i in range(N):\n",
    "        if i == 0:\n",
    "            T_left[i] = np.identity(Nr)\n",
    "        else:\n",
    "            T_left[i] = np.matmul(T_left[i-1], nuc_arr.T_all[:, :, i-1]) / alphas[i-1]\n",
    "    for ind in range(N):\n",
    "        i = N - ind - 1\n",
    "        if i == N-1:\n",
    "            T_right[i] = np.identity(Nr)\n",
    "        else:\n",
    "            T_right[i] = np.matmul(nuc_arr.T_all[:, :, i+1], T_right[i+1]) / alphas[i]\n",
    "    \n",
    "    # Compute derivative\n",
    "    dZ = np.zeros((Nr, Nr))\n",
    "    for i in range(N):\n",
    "        dZ += np.matmul(np.matmul(T_left[i], dT_all[i]), T_right[i])\n",
    "\n",
    "    # Calculate theoretical binding fraction\n",
    "    theta_theory = 1 / (nuc_arr.Nbi[0] * N * Z) * np.trace(dZ)\n",
    "\n",
    "    return theta_theory"
   ]
  },
  {
   "cell_type": "code",
   "execution_count": 15,
   "id": "6e4ca2f0",
   "metadata": {},
   "outputs": [],
   "source": [
    "# Transitions appear to occur between mu = -11.5 and -11, then again between mu = -10 to -9.75\n",
    "thetas = []\n",
    "all_mu = np.concatenate((\n",
    "    np.linspace(-11.5, -11, 51),\n",
    "    np.linspace(-10.9, -10.1, 9),\n",
    "    np.linspace(-10, -9.75, 51)\n",
    "))"
   ]
  },
  {
   "cell_type": "code",
   "execution_count": 16,
   "id": "90254682",
   "metadata": {
    "scrolled": true
   },
   "outputs": [
    {
     "name": "stdout",
     "output_type": "stream",
     "text": [
      "mu index 1 of 111\n",
      "mu index 2 of 111\n",
      "mu index 3 of 111\n",
      "mu index 4 of 111\n",
      "mu index 5 of 111\n",
      "mu index 6 of 111\n",
      "mu index 7 of 111\n",
      "mu index 8 of 111\n",
      "mu index 9 of 111\n",
      "mu index 10 of 111\n",
      "mu index 11 of 111\n",
      "mu index 12 of 111\n",
      "mu index 13 of 111\n",
      "mu index 14 of 111\n",
      "mu index 15 of 111\n",
      "mu index 16 of 111\n",
      "mu index 17 of 111\n",
      "mu index 18 of 111\n",
      "mu index 19 of 111\n",
      "mu index 20 of 111\n",
      "mu index 21 of 111\n",
      "mu index 22 of 111\n",
      "mu index 23 of 111\n",
      "mu index 24 of 111\n",
      "mu index 25 of 111\n",
      "mu index 26 of 111\n",
      "mu index 27 of 111\n",
      "mu index 28 of 111\n",
      "mu index 29 of 111\n",
      "mu index 30 of 111\n",
      "mu index 31 of 111\n",
      "mu index 32 of 111\n",
      "mu index 33 of 111\n",
      "mu index 34 of 111\n",
      "mu index 35 of 111\n",
      "mu index 36 of 111\n",
      "mu index 37 of 111\n",
      "mu index 38 of 111\n",
      "mu index 39 of 111\n",
      "mu index 40 of 111\n",
      "mu index 41 of 111\n",
      "mu index 42 of 111\n",
      "mu index 43 of 111\n",
      "mu index 44 of 111\n",
      "mu index 45 of 111\n",
      "mu index 46 of 111\n",
      "mu index 47 of 111\n",
      "mu index 48 of 111\n",
      "mu index 49 of 111\n",
      "mu index 50 of 111\n",
      "mu index 51 of 111\n",
      "mu index 52 of 111\n",
      "mu index 53 of 111\n",
      "mu index 54 of 111\n",
      "mu index 55 of 111\n",
      "mu index 56 of 111\n",
      "mu index 57 of 111\n",
      "mu index 58 of 111\n",
      "mu index 59 of 111\n",
      "mu index 60 of 111\n",
      "mu index 61 of 111\n",
      "mu index 62 of 111\n",
      "mu index 63 of 111\n",
      "mu index 64 of 111\n",
      "mu index 65 of 111\n",
      "mu index 66 of 111\n",
      "mu index 67 of 111\n",
      "mu index 68 of 111\n",
      "mu index 69 of 111\n",
      "mu index 70 of 111\n",
      "mu index 71 of 111\n",
      "mu index 72 of 111\n",
      "mu index 73 of 111\n",
      "mu index 74 of 111\n",
      "mu index 75 of 111\n",
      "mu index 76 of 111\n",
      "mu index 77 of 111\n",
      "mu index 78 of 111\n",
      "mu index 79 of 111\n",
      "mu index 80 of 111\n",
      "mu index 81 of 111\n",
      "mu index 82 of 111\n",
      "mu index 83 of 111\n",
      "mu index 84 of 111\n",
      "mu index 85 of 111\n",
      "mu index 86 of 111\n",
      "mu index 87 of 111\n",
      "mu index 88 of 111\n",
      "mu index 89 of 111\n",
      "mu index 90 of 111\n",
      "mu index 91 of 111\n",
      "mu index 92 of 111\n",
      "mu index 93 of 111\n",
      "mu index 94 of 111\n",
      "mu index 95 of 111\n",
      "mu index 96 of 111\n",
      "mu index 97 of 111\n",
      "mu index 98 of 111\n",
      "mu index 99 of 111\n",
      "mu index 100 of 111\n",
      "mu index 101 of 111\n",
      "mu index 102 of 111\n",
      "mu index 103 of 111\n",
      "mu index 104 of 111\n",
      "mu index 105 of 111\n",
      "mu index 106 of 111\n",
      "mu index 107 of 111\n",
      "mu index 108 of 111\n",
      "mu index 109 of 111\n",
      "mu index 110 of 111\n",
      "mu index 111 of 111\n"
     ]
    }
   ],
   "source": [
    "for i, mu in enumerate(all_mu):\n",
    "    print(f\"mu index {i+1} of {len(all_mu)}\")\n",
    "\n",
    "    # Initialize the nucleosome array\n",
    "    nuc_arr = nuc.NucleosomeArray(\n",
    "        J = J, B = B, mu = [mu], linker_lengths = linker_lengths,\n",
    "        a = a, lam = lam, marks = marks, Nbi = nbi\n",
    "    )\n",
    "    \n",
    "    # Calculate the average binding fraction\n",
    "    theta_theory = compute_theoretical_binding_fraction(nuc_arr)\n",
    "    \n",
    "    # Store the average binding fraction\n",
    "    thetas.append(theta_theory)"
   ]
  },
  {
   "cell_type": "markdown",
   "id": "a39cebdf",
   "metadata": {},
   "source": [
    "#### Plot Theoretical Isotherm"
   ]
  },
  {
   "cell_type": "code",
   "execution_count": 17,
   "id": "be20cb63",
   "metadata": {},
   "outputs": [
    {
     "data": {
      "image/png": "[encoded data removed]",
      "text/plain": [
       "<Figure size 1200x900 with 1 Axes>"
      ]
     },
     "metadata": {},
     "output_type": "display_data"
    }
   ],
   "source": [
    "plt.figure(figsize=(4,3), dpi=300)\n",
    "plt.plot(all_mu, thetas)\n",
    "plt.xlabel(r\"$\\mu$\")\n",
    "plt.ylabel(r\"$\\theta$\")\n",
    "plt.show()"
   ]
  },
  {
   "cell_type": "code",
   "execution_count": null,
   "id": "d32e2f90",
   "metadata": {},
   "outputs": [],
   "source": []
  }
 ],
 "metadata": {
  "kernelspec": {
   "display_name": "slide",
   "language": "python",
   "name": "slide"
  },
  "language_info": {
   "codemirror_mode": {
    "name": "ipython",
    "version": 3
   },
   "file_extension": ".py",
   "mimetype": "text/x-python",
   "name": "python",
   "nbconvert_exporter": "python",
   "pygments_lexer": "ipython3",
   "version": "3.10.9"
  },
  "varInspector": {
   "cols": {
    "lenName": 16,
    "lenType": 16,
    "lenVar": 40
   },
   "kernels_config": {
    "python": {
     "delete_cmd_postfix": "",
     "delete_cmd_prefix": "del ",
     "library": "var_list.py",
     "varRefreshCmd": "print(var_dic_list())"
    },
    "r": {
     "delete_cmd_postfix": ") ",
     "delete_cmd_prefix": "rm(",
     "library": "var_list.r",
     "varRefreshCmd": "cat(var_dic_list()) "
    }
   },
   "types_to_exclude": [
    "module",
    "function",
    "builtin_function_or_method",
    "instance",
    "_Feature"
   ],
   "window_display": false
  }
 },
 "nbformat": 4,
 "nbformat_minor": 5
}
